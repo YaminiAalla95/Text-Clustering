{
 "cells": [
  {
   "cell_type": "code",
   "execution_count": 101,
   "metadata": {},
   "outputs": [],
   "source": [
    "import numpy as np\n",
    "import pandas as pd\n",
    "import scipy.sparse as sp\n",
    "from numpy.linalg import norm\n",
    "from collections import Counter, defaultdict\n",
    "import matplotlib.pyplot as plt\n",
    "from scipy.sparse import csr_matrix, find\n",
    "from sklearn.metrics import calinski_harabasz_score\n",
    "from scipy.spatial.distance import euclidean\n",
    "from sklearn.decomposition import TruncatedSVD\n",
    "from sklearn.feature_extraction.text import TfidfTransformer\n",
    "from sklearn import metrics\n",
    "from sklearn.decomposition import SparsePCA\n",
    "from sklearn.metrics.pairwise import euclidean_distances\n",
    "\n",
    "from sklearn.utils import shuffle\n",
    "import click\n",
    "import logging\n",
    "from pathlib import Path\n",
    "from sklearn.utils import shuffle\n",
    "\n",
    "row = []\n",
    "column = []\n",
    "matrix_data = []\n",
    "with open('train.dat', 'r') as input:\n",
    "    for number, lines in enumerate(input):\n",
    "        lines = lines.rstrip()\n",
    "        total_words = lines.split()\n",
    "        count = int(len(total_words))\n",
    "        for i in range(0,count,2):\n",
    "            column.append(int(total_words[i]))\n",
    "            matrix_data.append(int(total_words[i+1]))\n",
    "            row.append(number)\n",
    "matrix = csr_matrix((matrix_data,(row, column)), dtype = np.float)\n",
    "tf_trans = TfidfTransformer(norm='l2', use_idf=True, smooth_idf=True)\n",
    "tfid = tf_trans.fit_transform(matrix)\n",
    "\n",
    "svd = TruncatedSVD(n_components=300, random_state=42,algorithm='arpack')\n",
    "reducedmatrix=svd.fit_transform(tfid)\n",
    "reducedmatrix= csr_matrix(reducedmatrix)\n"
   ]
  },
  {
   "cell_type": "markdown",
   "metadata": {},
   "source": [
    "# Calculating Initial centroids, Recalculate centroids and Forming clusters"
   ]
  },
  {
   "cell_type": "code",
   "execution_count": 102,
   "metadata": {},
   "outputs": [],
   "source": [
    "# Recalculating centroids by taking mean of all points in each cluster.\n",
    "def getCentroids(mat, init_clusters):\n",
    "    centroids = list()\n",
    "# Calculate mean and reassign centroids for two clusters\n",
    "    for itr in range(0,2):\n",
    "        ind = [i for i in range(len(init_clusters)) if init_clusters[i] == itr]\n",
    "        points = mat[ind,:]\n",
    "        centroids.append(points.toarray().mean(0))\n",
    "    recal_centroids = csr_matrix(centroids)\n",
    "    return recal_centroids\n",
    "#Calculating intial centroids.\n",
    "def initial_Centroids(reducedmatrix,matrix):\n",
    "    matrixShuffled = shuffle(matrix, random_state=0)\n",
    "    cluster_index=[]\n",
    "    for i in range(matrixShuffled.shape[0]):\n",
    "        cluster_index.append(i)\n",
    "    initial_centroids = cluster_index[:2]\n",
    "    centroids = reducedmatrix[[initial_centroids[0],initial_centroids[1]],:]\n",
    "    return centroids\n",
    "#Forming clusters by taking centroids as reference points and calculating similarity between points\n",
    "def fetch_Cluster(data, centroids):\n",
    "    cluster_list = list()\n",
    "    DistanceMatrix = data.dot(centroids.T)\n",
    "    for itr in range(DistanceMatrix.shape[0]):\n",
    "        cluster_init = DistanceMatrix[itr].toarray()\n",
    "        cluster_init= cluster_init.flatten()\n",
    "        cluster_index = cluster_init.argsort()[-1]\n",
    "        cluster_list.append(cluster_index)\n",
    "    return cluster_list"
   ]
  },
  {
   "cell_type": "markdown",
   "metadata": {},
   "source": [
    "# Implementing Kmeans clustering"
   ]
  },
  {
   "cell_type": "code",
   "execution_count": 103,
   "metadata": {},
   "outputs": [],
   "source": [
    "def kmeans(reducedmatrix,matrix, cluster_index):\n",
    "# Calling initial centroid function and loading centroid values to fetch_cluster\n",
    "    centroids = initial_Centroids(reducedmatrix,matrix)\n",
    "#   For stoping condition:Considering no of iterations as 20\n",
    "    for itr in range(20):\n",
    "#   Calling fetch_cluster and getcentroid functions.\n",
    "        init_clusters = fetch_Cluster(matrix,centroids)\n",
    "        centroids = getCentroids(matrix,init_clusters)\n",
    "    cluster_index1 = []\n",
    "    cluster_index2 = []\n",
    "    for i in range(len(init_clusters)):\n",
    "        if init_clusters[i] == 0:\n",
    "            cluster_index1.append(cluster_index[i])\n",
    "        elif init_clusters[i] == 1:\n",
    "            cluster_index2.append(cluster_index[i])\n",
    "\n",
    "    return cluster_index1, cluster_index2\n"
   ]
  },
  {
   "cell_type": "markdown",
   "metadata": {},
   "source": [
    "# Calculate sse"
   ]
  },
  {
   "cell_type": "code",
   "execution_count": 104,
   "metadata": {},
   "outputs": [],
   "source": [
    "def cal_sse(cluster_1,cluster_2):\n",
    "    sse_cluster1=0\n",
    "    sse_cluster2=0\n",
    "#  sum of square for points in cluster and to mean of clusters. Considering l2 norm form(Euclidean distance)\n",
    "    for clusters in cluster_1:\n",
    "            sse_cluster1 += (np.linalg.norm(clusters.toarray()-clusters.toarray().mean()))**2\n",
    "    for clusters in cluster_2:\n",
    "            sse_cluster2 += (np.linalg.norm(clusters.toarray()-clusters.toarray().mean()))**2  \n",
    "    if(sse_cluster1<sse_cluster2):\n",
    "        max_sse = sse_cluster2\n",
    "    else:\n",
    "        max_sse = sse_cluster1\n",
    "    return sse_cluster1,sse_cluster2,max_sse"
   ]
  },
  {
   "cell_type": "markdown",
   "metadata": {},
   "source": [
    "# Bisecting K-Means Clustering\n"
   ]
  },
  {
   "cell_type": "code",
   "execution_count": 105,
   "metadata": {},
   "outputs": [],
   "source": [
    "def bisect_kmeans(reducedmatrix, k):\n",
    "    matrix = reducedmatrix\n",
    "    cluster_list = []\n",
    "    cluster_index = []\n",
    "    for i in range(reducedmatrix.shape[0]):\n",
    "        cluster_index.append(i)\n",
    "    cluster_list += [cluster_index]\n",
    "#     iterate untill required no of clusters formed, i.e k=7 \n",
    "    while len(cluster_list) < k:\n",
    "#         Calling k means clustering which returns formed cluster indexes\n",
    "        cluster_index1, cluster_index2 = kmeans(reducedmatrix,matrix,cluster_index)\n",
    "#     Forming clusters by taking index points\n",
    "        cluster_1 = reducedmatrix[cluster_index1,:]\n",
    "        cluster_2 = reducedmatrix[cluster_index2,:]\n",
    "#   Calling cal_sse function and get sse values for both clusters\n",
    "        sse_cluster1,sse_cluster2,max_sse = cal_sse(cluster_1,cluster_2)\n",
    "# If cluster2 has maximum sse add cluster1 points to cluster list and vice versa.\n",
    "        if max_sse == sse_cluster2:\n",
    "            cluster_list += [cluster_index1]\n",
    "        if max_sse == sse_cluster1:\n",
    "            cluster_list += [cluster_index2]\n",
    "# If cluster2 is greater than cluster1 sse assign cluster2 points to matrix and recalculate kmeans and form clusters \n",
    "        if sse_cluster2 > sse_cluster1:\n",
    "            cluster_index = cluster_index2\n",
    "            matrix = cluster_2\n",
    "        elif sse_cluster1 > sse_cluster2:\n",
    "            cluster_index = cluster_index1\n",
    "            matrix = cluster_1\n",
    "        \n",
    "    return cluster_list\n"
   ]
  },
  {
   "cell_type": "code",
   "execution_count": 106,
   "metadata": {},
   "outputs": [
    {
     "name": "stdout",
     "output_type": "stream",
     "text": [
      "Clusters:   3\n",
      "Accuracy Score: \n",
      "188.10888564048085\n",
      "Clusters:   5\n",
      "Accuracy Score: \n",
      "173.97394126417285\n",
      "Clusters:   7\n",
      "Accuracy Score: \n",
      "137.0226695136572\n",
      "Clusters:   9\n",
      "Accuracy Score: \n",
      "108.2947458161475\n",
      "Clusters:   11\n",
      "Accuracy Score: \n",
      "87.54579672799912\n",
      "Clusters:   13\n",
      "Accuracy Score: \n",
      "74.28126151288033\n",
      "Clusters:   15\n",
      "Accuracy Score: \n",
      "64.1148708424891\n",
      "Clusters:   17\n",
      "Accuracy Score: \n",
      "56.23633354844469\n",
      "Clusters:   19\n",
      "Accuracy Score: \n",
      "50.10121856989747\n",
      "Clusters:   21\n",
      "Accuracy Score: \n",
      "45.194576852407344\n"
     ]
    }
   ],
   "source": [
    "Cluster_count = list()\n",
    "Accuracy_scores = list()\n",
    "# Calculate clusters for 3 to 22 with stepsize of 2\n",
    "for k in range(3,22,2):\n",
    "    output = []\n",
    "    for i in range(matrix.shape[0]):\n",
    "        output.append(0)\n",
    "#         Calling bisect kmeans\n",
    "    clustering = bisect_kmeans(reducedmatrix,k)\n",
    "    for i in range(len(clustering)):\n",
    "        for j in range(len(clustering[i])):\n",
    "            output[clustering[i][j]] = i+1\n",
    "    print(\"Clusters:  \",k)\n",
    "    print(\"Accuracy Score: \")\n",
    "    print(calinski_harabasz_score(reducedmatrix.toarray(),output))\n",
    "    if (k==7):\n",
    "        f = open(\"output_check.dat\", \"w\")\n",
    "        f.write(\"\\n\".join(map(lambda y: str(y), output)))\n",
    "        f.close()\n",
    "    Accuracy_score = calinski_harabasz_score(reducedmatrix.toarray(), output)\n",
    "    Cluster_count.append(k)\n",
    "    Accuracy_scores.append(Accuracy_score)\n",
    "# output = []\n",
    "# for i in range(matrix.shape[0]):\n",
    "#     output.append(0)\n",
    "# kValues = list()\n",
    "# scores = list()\n",
    "# k=7\n",
    "# result = bisect_kmeans(reducedmatrix,k)\n",
    "# for i in range(len(result)):\n",
    "#     for j in range(len(result[i])):\n",
    "#         output[result[i][j]] = i+1\n",
    "# print(\"Accuracy Score: \",k)\n",
    "# print(calinski_harabasz_score(reducedmatrix.toarray(),output))\n",
    "\n",
    "# if (k==7):\n",
    "#     f = open(\"result_check.dat\", \"w\")\n",
    "#     f.write(\"\\n\".join(map(lambda y: str(y), output)))\n",
    "#     f.close()\n",
    "# Accuracy_score = calinski_harabasz_score(reducedmatrix.toarray(), output)\n",
    "# Cluster_count.append(k)\n",
    "# Accuracy_scores.append(Accuracy_score)"
   ]
  },
  {
   "cell_type": "code",
   "execution_count": 107,
   "metadata": {},
   "outputs": [
    {
     "data": {
      "image/png": "[encoded data removed]",
      "text/plain": [
       "<Figure size 432x288 with 1 Axes>"
      ]
     },
     "metadata": {
      "needs_background": "light"
     },
     "output_type": "display_data"
    }
   ],
   "source": [
    "%matplotlib inline\n",
    "import matplotlib.pyplot as plt\n",
    "\n",
    "plt.plot(Cluster_count, Accuracy_scores)\n",
    "plt.xticks(Cluster_count, Cluster_count)\n",
    "plt.xlabel('Number of Clusters k')\n",
    "plt.ylabel('Calinski and Harabaz Score')\n",
    "plt.grid(linestyle='dotted')\n",
    "\n",
    "plt.savefig('plot_2.png')\n",
    "plt.show()\n",
    "\n"
   ]
  },
  {
   "cell_type": "code",
   "execution_count": null,
   "metadata": {},
   "outputs": [],
   "source": []
  }
 ],
 "metadata": {
  "kernelspec": {
   "display_name": "Python 3",
   "language": "python",
   "name": "python3"
  },
  "language_info": {
   "codemirror_mode": {
    "name": "ipython",
    "version": 3
   },
   "file_extension": ".py",
   "mimetype": "text/x-python",
   "name": "python",
   "nbconvert_exporter": "python",
   "pygments_lexer": "ipython3",
   "version": "3.8.3"
  }
 },
 "nbformat": 4,
 "nbformat_minor": 4
}
